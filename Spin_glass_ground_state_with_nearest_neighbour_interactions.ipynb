{
  "cells": [
    {
      "cell_type": "markdown",
      "metadata": {
        "tags": [],
        "cell_id": "edaa5188c49b4679a396888eb5791463",
        "deepnote_cell_height": 120.390625,
        "deepnote_cell_type": "markdown",
        "id": "BGz0AObiEe30"
      },
      "source": [
        "# GROUND STATE\n",
        "Find the ground state of a spin glass system with nearest neighbour interactions"
      ]
    },
    {
      "cell_type": "code",
      "metadata": {
        "tags": [],
        "cell_id": "84d4d1739add4149bf229a2e80006122",
        "source_hash": "b5b84e8b",
        "execution_start": 1654439834655,
        "execution_millis": 5453,
        "deepnote_cell_height": 153,
        "deepnote_to_be_reexecuted": false,
        "deepnote_cell_type": "code",
        "id": "_coglSsnEe3-"
      },
      "source": [
        "import numpy as np\n",
        "import itertools\n",
        "\n",
        "from numba import jit\n",
        "from spektral.utils.sparse import sp_matrix_to_sp_tensor"
      ],
      "execution_count": null,
      "outputs": []
    },
    {
      "cell_type": "markdown",
      "metadata": {
        "tags": [],
        "cell_id": "914d9577bfe84203a52a369ffc474aa4",
        "deepnote_cell_height": 70,
        "deepnote_cell_type": "markdown",
        "id": "B5Q7svzmEe4A"
      },
      "source": [
        "## Predefined Functions"
      ]
    },
    {
      "cell_type": "code",
      "metadata": {
        "tags": [],
        "cell_id": "ddc9b90f4eae4302a93a128abfbd42c0",
        "source_hash": "63f6794e",
        "execution_start": 1654439840118,
        "execution_millis": 5,
        "deepnote_cell_height": 747,
        "deepnote_to_be_reexecuted": false,
        "deepnote_cell_type": "code",
        "id": "fFwuZ-8HEe4A"
      },
      "source": [
        "def Adj(D, L, sparse=False):\n",
        "    N = L**D\n",
        "\n",
        "    # create all nodes' coordinates\n",
        "    nodes = [x for x in np.ndindex(tuple(np.repeat(L,D)))]\n",
        "\n",
        "    # Pass from coordinate to node's index\n",
        "    # (h,...k,j,i) <=> index = h*L^(D-1) + ... + k*L^2 + j*L + i\n",
        "    mul = [L**i for i in reversed(range(D))]\n",
        "\n",
        "    # Creation of adjacency matrix\n",
        "    A_dense = []\n",
        "    # creation of a row for each node's coordinate\n",
        "    for node in nodes:\n",
        "        temp_buffer = []\n",
        "        A_dense_row = [0]*N\n",
        "        # find the two nearest neighbours of the node along each dimension\n",
        "        for d in range(D):\n",
        "            temp=list(node)\n",
        "            temp[d]=((temp[d]+1)%L)\n",
        "            temp=np.inner(temp, mul)\n",
        "            temp_buffer.append(temp)\n",
        "\n",
        "            temp=list(node)\n",
        "            temp[d]=((temp[d]-1)%L)\n",
        "            temp=np.inner(temp, mul)\n",
        "            temp_buffer.append(temp)\n",
        "\n",
        "        temp_buffer=list(np.unique(np.array(temp_buffer), axis=0))\n",
        "        for i in temp_buffer: A_dense_row[i]=1\n",
        "        A_dense.append(A_dense_row)\n",
        "\n",
        "    # sparse=False => sparse adjacency matrix\n",
        "    # sparse=True => dense adjacency matrix\n",
        "    if sparse:\n",
        "        return sp_matrix_to_sp_tensor(np.array(A_dense))\n",
        "    else:\n",
        "        return np.array(A_dense)"
      ],
      "execution_count": null,
      "outputs": []
    },
    {
      "cell_type": "code",
      "metadata": {
        "tags": [],
        "cell_id": "81f8421fc9d846e29f0843c1a488dc1d",
        "source_hash": "3c2729e3",
        "execution_start": 1654439840132,
        "execution_millis": 2,
        "deepnote_cell_height": 657,
        "deepnote_to_be_reexecuted": false,
        "deepnote_cell_type": "code",
        "id": "t7oqYLIeEe4B"
      },
      "source": [
        "def J_inter(denseAdj):\n",
        "    N = denseAdj.shape[0]\n",
        "    sparseAdj = sp_matrix_to_sp_tensor(denseAdj)\n",
        "\n",
        "    # sparse adjacency matrix as a numpy array\n",
        "    edge=sparseAdj.indices.numpy()\n",
        "\n",
        "    # ordered numpy sparse adjacency matrix\n",
        "    un_edge=np.array([np.sort(i) for i in edge])\n",
        "\n",
        "    # creation of the interaction array: (i,j) and (j,i) have the same Jij\n",
        "    inter=[]\n",
        "    for i in range(len(un_edge)):\n",
        "        equal=True\n",
        "        for j in range(i):\n",
        "            if np.array_equal(un_edge[i],un_edge[j]):\n",
        "                inter.append(inter[j])\n",
        "                equal=False\n",
        "                break\n",
        "        if equal:\n",
        "            inter.append(np.random.normal(0, 1))\n",
        "\n",
        "    # creation of dense interaction matrix\n",
        "    inter_matrix = np.zeros((N,N))\n",
        "    counter = 0\n",
        "    for i, j in edge:\n",
        "        inter_matrix[i,j] = inter[counter]\n",
        "        counter += 1\n",
        "    return [np.array(inter).reshape(sparseAdj.indices.shape[0],1), inter_matrix.reshape((N,N,1))]\n",
        "\n",
        "    # index of the returned list:\n",
        "    # 0 => interaction array\n",
        "    # 1 => interaction matrix (zero padded)"
      ],
      "execution_count": null,
      "outputs": []
    },
    {
      "cell_type": "code",
      "metadata": {
        "tags": [],
        "cell_id": "5122d56bdbf54210b907e4ea94856362",
        "source_hash": "eb85484e",
        "execution_start": 1654439840142,
        "execution_millis": 29,
        "deepnote_cell_height": 171,
        "deepnote_to_be_reexecuted": false,
        "deepnote_cell_type": "code",
        "id": "xRKOKW_sEe4D"
      },
      "source": [
        "@jit(nopython=True)\n",
        "def computeEnergy(state, edge, interaction):\n",
        "    energy = 0\n",
        "    for i in range(len(edge)):\n",
        "        energy -= interaction[i][0]*state[edge[i][0]][0]*state[edge[i][1]][0]\n",
        "    return energy/2"
      ],
      "execution_count": null,
      "outputs": []
    },
    {
      "cell_type": "code",
      "metadata": {
        "tags": [],
        "cell_id": "77c408ee02fd4e91878f28e3511fda89",
        "source_hash": "cb1079c2",
        "execution_start": 1654439840177,
        "execution_millis": 1,
        "deepnote_cell_height": 207,
        "deepnote_to_be_reexecuted": false,
        "deepnote_cell_type": "code",
        "id": "efhmH-CREe4E"
      },
      "source": [
        "@jit(nopython=True)\n",
        "def EnergyMinima(states, sparseAdj, inter):\n",
        "    energy_min = np.inf\n",
        "    for state in states:\n",
        "        state = np.array(state).reshape(N,1)\n",
        "        state_energy = computeEnergy(state, sparseAdj, inter)\n",
        "        if state_energy<energy_min: energy_min=state_energy\n",
        "    return energy_min"
      ],
      "execution_count": null,
      "outputs": []
    },
    {
      "cell_type": "markdown",
      "metadata": {
        "tags": [],
        "cell_id": "0269306e1fc544ee8152795ed509b8d7",
        "deepnote_cell_height": 70,
        "deepnote_cell_type": "markdown",
        "id": "LkYWJkYtEe4F"
      },
      "source": [
        "## Main"
      ]
    },
    {
      "cell_type": "code",
      "metadata": {
        "tags": [],
        "cell_id": "af9bbaf221434a51a3b1e891c5d27dec",
        "source_hash": "d1c25608",
        "owner_user_id": "d8aa7146-c8e6-479e-9e49-136a058e4f85",
        "execution_start": 1654439840223,
        "execution_millis": 1,
        "deepnote_cell_height": 243,
        "deepnote_to_be_reexecuted": false,
        "deepnote_cell_type": "code",
        "id": "PrfwPrCoEe4F"
      },
      "source": [
        "D=2\n",
        "L=3\n",
        "N=L**D\n",
        "\n",
        "sp_A = Adj(D, L, sparse=True).indices.numpy()\n",
        "dense_A = Adj(D, L, sparse=False)\n",
        "interaction = J_inter(dense_A)[0]\n",
        "\n",
        "ensemble = [1, -1]\n",
        "all_states = [x for x in itertools.product(ensemble, repeat=N)]"
      ],
      "execution_count": null,
      "outputs": []
    },
    {
      "cell_type": "code",
      "metadata": {
        "tags": [],
        "cell_id": "2d60d75e1afa4c7bb323a53c7510f961",
        "source_hash": "1b640d54",
        "execution_start": 1654439840267,
        "execution_millis": 926,
        "deepnote_cell_height": 318.0625,
        "deepnote_to_be_reexecuted": false,
        "deepnote_cell_type": "code",
        "id": "maMeUIFIEe4G",
        "outputId": "c048563c-4112-4c1e-c04d-7f3802db4566"
      },
      "source": [
        "energy_min = EnergyMinima(all_states, sp_A, interaction)"
      ],
      "execution_count": null,
      "outputs": [
        {
          "name": "stderr",
          "text": "/root/venv/lib/python3.7/site-packages/numba/core/ir_utils.py:2152: NumbaPendingDeprecationWarning: \nEncountered the use of a type that is scheduled for deprecation: type 'reflected list' found for argument 'states' of function 'EnergyMinima'.\n\nFor more information visit https://numba.readthedocs.io/en/stable/reference/deprecation.html#deprecation-of-reflection-for-list-and-set-types\n\nFile \"<ipython-input-5-6d8e66e0d43e>\", line 2:\n@jit(nopython=True)\ndef EnergyMinima(states, sparseAdj, inter):\n^\n\n  warnings.warn(NumbaPendingDeprecationWarning(msg, loc=loc))\n",
          "output_type": "stream"
        }
      ]
    },
    {
      "cell_type": "code",
      "metadata": {
        "tags": [],
        "cell_id": "bb235bcdf3194b2f9b0156dbb9ae6663",
        "source_hash": "c1b79e99",
        "execution_start": 1654439841200,
        "execution_millis": 5,
        "deepnote_cell_height": 118.1875,
        "deepnote_output_heights": [
          21.1875
        ],
        "deepnote_to_be_reexecuted": false,
        "deepnote_cell_type": "code",
        "id": "FAFC3yrdEe4I",
        "outputId": "92b5221c-803d-4b96-f844-ff11ab5ca49c"
      },
      "source": [
        "energy_min"
      ],
      "execution_count": null,
      "outputs": [
        {
          "output_type": "execute_result",
          "execution_count": 8,
          "data": {
            "text/plain": "-11.97939857066448"
          },
          "metadata": {}
        }
      ]
    },
    {
      "cell_type": "code",
      "metadata": {
        "tags": [],
        "cell_id": "d4f4c29f2bba4752b74d2dfd6629c14c",
        "deepnote_cell_height": 66,
        "deepnote_cell_type": "code",
        "id": "JjrqwGJuEe4J"
      },
      "source": [],
      "execution_count": null,
      "outputs": []
    }
  ],
  "nbformat": 4,
  "nbformat_minor": 0,
  "metadata": {
    "deepnote": {},
    "orig_nbformat": 2,
    "deepnote_notebook_id": "ed951ce920434611adcbfe84b65991db",
    "deepnote_execution_queue": [],
    "colab": {
      "provenance": []
    }
  }
}